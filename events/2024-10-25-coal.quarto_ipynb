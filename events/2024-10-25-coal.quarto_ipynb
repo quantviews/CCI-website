{
  "cells": [
    {
      "cell_type": "markdown",
      "metadata": {},
      "source": [
        "---\n",
        "title: \"Пятница с ЦЦИ: уголь (25 октября 2024)\"\n",
        "date: 25/10/2024\n",
        "lang: ru\n",
        "---\n",
        "\n",
        "\n",
        "## Пятница с ЦЦИ: уголь\n",
        "\n",
        "25 октября 2024 г.\n",
        "\n",
        "\n",
        "### Запись вебинара\n",
        "\n",
        "1.  Есть ли надежда на Китай?\n",
        "\n",
        "\n",
        "```{html}\n",
        "\n",
        "<iframe src=\"https://vk.com/video_ext.php?oid=-227681629&id=456239021&hd=2&autoplay=1\" width=\"853\" height=\"480\" allow=\"autoplay; encrypted-media; fullscreen; picture-in-picture; screen-wake-lock;\" frameborder=\"0\" allowfullscreen></iframe>\n",
        "\n",
        "\n",
        "```\n",
        "\n",
        "\n",
        "\n",
        "2.  Дожди охладили жару в Индии\n",
        "\n",
        "\n",
        "3.  Вьетнам - растущая надежда? \n"
      ],
      "id": "b26beeb1"
    }
  ],
  "metadata": {
    "kernelspec": {
      "display_name": "Python 3",
      "language": "python",
      "name": "python3"
    }
  },
  "nbformat": 4,
  "nbformat_minor": 5
}